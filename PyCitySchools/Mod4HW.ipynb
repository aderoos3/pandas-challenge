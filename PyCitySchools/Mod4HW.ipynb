{
 "cells": [
  {
   "cell_type": "code",
   "execution_count": null,
   "id": "a6c3f3d6",
   "metadata": {},
   "outputs": [],
   "source": [
    "#Dependencies\n",
    "import pandas as pd\n",
    "from pathlib import Path"
   ]
  },
  {
   "cell_type": "code",
   "execution_count": null,
   "id": "66eaa0d3",
   "metadata": {},
   "outputs": [],
   "source": [
    "#Create paths and data frames\n",
    "school_file = Path(\"Resources/schools_complete.csv\")\n",
    "school_df = pd.read_csv(school_file)\n",
    "student_file = Path(\"Resources/students_complete.csv\")\n",
    "student_df = pd.read_csv(student_file)\n",
    "student_df.head()\n",
    "combined_df = pd.merge(student_df, school_df, how=\"left\", on=[\"school_name\", \"school_name\"])\n",
    "combined_df"
   ]
  },
  {
   "cell_type": "code",
   "execution_count": null,
   "id": "4057ba50",
   "metadata": {},
   "outputs": [],
   "source": [
    "#Calculate school count\n",
    "school_count=len(pd.unique(school_df[\"school_name\"]))\n",
    "school_count"
   ]
  },
  {
   "cell_type": "code",
   "execution_count": null,
   "id": "f7a0431e",
   "metadata": {},
   "outputs": [],
   "source": [
    "#Calculate student count\n",
    "student_count=len(student_df[\"student_name\"])\n",
    "student_count"
   ]
  },
  {
   "cell_type": "code",
   "execution_count": null,
   "id": "75b7bbe6",
   "metadata": {},
   "outputs": [],
   "source": [
    "#Calculate total budget\n",
    "total_budget=sum(school_df[\"budget\"])\n",
    "total_budget"
   ]
  },
  {
   "cell_type": "code",
   "execution_count": null,
   "id": "c8c1b12d",
   "metadata": {},
   "outputs": [],
   "source": [
    "#Calculate average math score\n",
    "average_math_score=combined_df[\"math_score\"].mean()\n",
    "average_math_score"
   ]
  },
  {
   "cell_type": "code",
   "execution_count": null,
   "id": "8609bcb8",
   "metadata": {},
   "outputs": [],
   "source": [
    "#Calculate average reading score\n",
    "average_read_score=combined_df[\"reading_score\"].mean()\n",
    "average_read_score"
   ]
  },
  {
   "cell_type": "code",
   "execution_count": null,
   "id": "8a87c751",
   "metadata": {},
   "outputs": [],
   "source": [
    "#Calculate students who passed math\n",
    "passing_math_count = combined_df[(combined_df[\"math_score\"] >= 70)].count()[\"student_name\"]\n",
    "passing_math_percentage = passing_math_count / float(student_count) * 100\n",
    "passing_math_percentage"
   ]
  },
  {
   "cell_type": "code",
   "execution_count": null,
   "id": "3d27d2f4",
   "metadata": {},
   "outputs": [],
   "source": [
    "#Calculate students who passed reading\n",
    "passing_reading_count = combined_df[(combined_df[\"reading_score\"] >= 70)].count()[\"student_name\"]\n",
    "passing_reading_percentage = passing_reading_count / float(student_count) * 100\n",
    "passing_reading_percentage\n"
   ]
  },
  {
   "cell_type": "code",
   "execution_count": null,
   "id": "f92bb78e",
   "metadata": {},
   "outputs": [],
   "source": [
    "#Calculate students who passed both reading & math\n",
    "passing_math_reading_count = combined_df[\n",
    "    (combined_df[\"math_score\"] >= 70) & (combined_df[\"reading_score\"] >= 70)\n",
    "].count()[\"student_name\"]\n",
    "overall_passing_rate = passing_math_reading_count /  float(student_count) * 100\n",
    "overall_passing_rate"
   ]
  },
  {
   "cell_type": "code",
   "execution_count": null,
   "id": "4739b271",
   "metadata": {},
   "outputs": [],
   "source": [
    "#Create organzed DataFrame with all the new information\n",
    "district_summary_df = pd.DataFrame([{\"Total Schools\":school_count, \"Total Students\":student_count,\n",
    "                                    \"Total Budget\":total_budget, \"Average Math Score\":average_math_score,\"Average Reading Score\":average_read_score,\n",
    "                                    \"% Passing Math\":passing_math_percentage, \"% Passing Reading\":passing_reading_percentage,\n",
    "                                    \"% Overall Passing\":overall_passing_rate}])\n",
    "district_summary_df[\"Total Students\"] = district_summary_df[\"Total Students\"].map(\"{:,}\".format)\n",
    "district_summary_df[\"Total Budget\"] = district_summary_df[\"Total Budget\"].map(\"${:,.2f}\".format)\n",
    "district_summary_df\n"
   ]
  },
  {
   "cell_type": "code",
   "execution_count": null,
   "id": "31378d0e",
   "metadata": {},
   "outputs": [],
   "source": [
    "#Defining school types\n",
    "school_type=school_df.set_index(\"school_name\")[\"type\"]\n",
    "school_type"
   ]
  },
  {
   "cell_type": "code",
   "execution_count": null,
   "id": "a2d87477",
   "metadata": {},
   "outputs": [],
   "source": [
    "#Total students per school\n",
    "per_school_count=combined_df[\"school_name\"].value_counts()\n",
    "per_school_count"
   ]
  },
  {
   "cell_type": "code",
   "execution_count": null,
   "id": "e4b9543d",
   "metadata": {},
   "outputs": [],
   "source": [
    "#Total budget per school\n",
    "per_school_budget=combined_df.groupby(\"school_name\").mean()[\"budget\"]\n",
    "per_school_budget"
   ]
  },
  {
   "cell_type": "code",
   "execution_count": null,
   "id": "5c1c10fc",
   "metadata": {},
   "outputs": [],
   "source": [
    "#Total budget per capita\n",
    "per_capita=per_school_budget/per_school_count\n",
    "per_capita"
   ]
  },
  {
   "cell_type": "code",
   "execution_count": null,
   "id": "c55fbd75",
   "metadata": {},
   "outputs": [],
   "source": [
    "#Average math scores per school\n",
    "per_school_math=combined_df.groupby(\"school_name\").mean()[\"math_score\"]\n",
    "per_school_math"
   ]
  },
  {
   "cell_type": "code",
   "execution_count": null,
   "id": "30bca6ea",
   "metadata": {},
   "outputs": [],
   "source": [
    "#Average reading scores per school\n",
    "per_school_reading=combined_df.groupby(\"school_name\").mean()[\"reading_score\"]\n",
    "per_school_reading"
   ]
  },
  {
   "cell_type": "code",
   "execution_count": null,
   "id": "6125a723",
   "metadata": {},
   "outputs": [],
   "source": [
    "#Percentage of math scores over 70% per school\n",
    "passing_math=combined_df[combined_df[\"math_score\"]>=70]\n",
    "per_school_passing_math=passing_math.groupby(\"school_name\").count()[\"student_name\"]\n",
    "per_percentage_math=per_school_passing_math/per_school_count *100\n",
    "per_percentage_math"
   ]
  },
  {
   "cell_type": "code",
   "execution_count": null,
   "id": "b1b8262b",
   "metadata": {},
   "outputs": [],
   "source": [
    "#Percentage of reading scores over 70% per school\n",
    "passing_reading=combined_df[combined_df[\"reading_score\"]>=70]\n",
    "per_school_passing_reading=passing_reading.groupby(\"school_name\").count()[\"student_name\"]\n",
    "per_percentage_reading=per_school_passing_reading/per_school_count *100\n",
    "per_percentage_reading"
   ]
  },
  {
   "cell_type": "code",
   "execution_count": null,
   "id": "e0918b3b",
   "metadata": {},
   "outputs": [],
   "source": [
    "#Percentage of math and reading scores over 70% per school\n",
    "passing_both=combined_df[(combined_df[\"math_score\"]>=70) & (combined_df[\"reading_score\"]>=70)]\n",
    "per_school_passing_both=passing_both.groupby(\"school_name\").count()[\"student_name\"]\n",
    "per_percentage_both=per_school_passing_both/per_school_count *100\n",
    "per_percentage_both"
   ]
  },
  {
   "cell_type": "code",
   "execution_count": null,
   "id": "3c881adf",
   "metadata": {},
   "outputs": [],
   "source": [
    "#Summary of all the new data, school type, total students and per school\n",
    "school_summary_df=pd.DataFrame({'School Type':school_type, 'Total Students': per_school_count,\n",
    "                                'Total School Budget': per_school_budget, 'Per Student Budget':per_capita,\n",
    "                               'Average Math Score': per_school_math, 'Average Reading Score':per_school_reading,\n",
    "                                '% Passing Math':per_percentage_math,'% Passing Reading':per_percentage_reading,\n",
    "                                '% Overall Passing':per_percentage_both})\n",
    "school_summary_df[\"Total School Budget\"] = school_summary_df[\"Total School Budget\"].map(\"${:,.2f}\".format)\n",
    "school_summary_df[\"Per Student Budget\"] = school_summary_df[\"Per Student Budget\"].map(\"${:,.2f}\".format)\n",
    "school_summary_df"
   ]
  },
  {
   "cell_type": "markdown",
   "id": "b4863294",
   "metadata": {},
   "source": [
    "# Highest & Lowest Performing Schools (by % Overall Passing)"
   ]
  },
  {
   "cell_type": "code",
   "execution_count": null,
   "id": "cff7a66f",
   "metadata": {},
   "outputs": [],
   "source": [
    "#DataFrame of best schools\n",
    "top_schools_df=school_summary_df.sort_values(\"% Overall Passing\",ascending=False)\n",
    "top_schools_df.head()"
   ]
  },
  {
   "cell_type": "code",
   "execution_count": null,
   "id": "d5ea605b",
   "metadata": {},
   "outputs": [],
   "source": [
    "#DataFrame of worst schools\n",
    "bottom_schools_df=school_summary_df.sort_values(\"% Overall Passing\",ascending=True)\n",
    "bottom_schools_df.head()"
   ]
  },
  {
   "cell_type": "markdown",
   "id": "3e7721c2",
   "metadata": {},
   "source": [
    "# Math & Reading Scores By Grade"
   ]
  },
  {
   "cell_type": "code",
   "execution_count": null,
   "id": "3a57cd07",
   "metadata": {},
   "outputs": [],
   "source": [
    "#Math and Reading scores by grades\n",
    "ninth_graders=combined_df[combined_df[\"grade\"]==\"9th\"]\n",
    "tenth_graders=combined_df[combined_df[\"grade\"]==\"10th\"]\n",
    "eleventh_graders=combined_df[combined_df[\"grade\"]==\"11th\"]\n",
    "twelfth_graders=combined_df[combined_df[\"grade\"]==\"12th\"]\n",
    "\n",
    "ninth_math_score=ninth_graders.groupby(\"school_name\").mean()[\"math_score\"]\n",
    "tenth_math_score=tenth_graders.groupby(\"school_name\").mean()[\"math_score\"]\n",
    "eleventh_math_score=eleventh_graders.groupby(\"school_name\").mean()[\"math_score\"]\n",
    "twelfth_math_score=twelfth_graders.groupby(\"school_name\").mean()[\"math_score\"]\n",
    "\n",
    "ninth_reading_score=ninth_graders.groupby(\"school_name\").mean()[\"reading_score\"]\n",
    "tenth_reading_score=tenth_graders.groupby(\"school_name\").mean()[\"reading_score\"]\n",
    "eleventh_reading_score=eleventh_graders.groupby(\"school_name\").mean()[\"reading_score\"]\n",
    "twelfth_reading_score=twelfth_graders.groupby(\"school_name\").mean()[\"reading_score\"]"
   ]
  },
  {
   "cell_type": "code",
   "execution_count": null,
   "id": "17ee5695",
   "metadata": {},
   "outputs": [],
   "source": [
    "#DataFrame of math scores by grade\n",
    "math_scores_by_grade_df=pd.DataFrame({\"Ninth\":ninth_math_score, \"Tenth\":tenth_math_score, \"Eleventh\": eleventh_math_score,\n",
    "                                     \"Twelfth\":twelfth_math_score})\n",
    "math_scores_by_grade_df"
   ]
  },
  {
   "cell_type": "code",
   "execution_count": null,
   "id": "03d8b588",
   "metadata": {},
   "outputs": [],
   "source": [
    "#DataFrame of reading scores by grade\n",
    "reading_scores_by_grade_df=pd.DataFrame({\"Ninth\":ninth_reading_score, \"Tenth\":tenth_reading_score, \"Eleventh\": eleventh_reading_score,\n",
    "                                     \"Twelfth\":twelfth_reading_score})\n",
    "reading_scores_by_grade_df"
   ]
  },
  {
   "cell_type": "code",
   "execution_count": null,
   "id": "e5049de7",
   "metadata": {},
   "outputs": [],
   "source": [
    "#Creating bins\n",
    "spending_bins = [0, 585, 630, 645, 680]\n",
    "labels = [\"<$585\", \"$585-630\", \"$630-645\", \"$645-680\"]"
   ]
  },
  {
   "cell_type": "code",
   "execution_count": null,
   "id": "85d5fd01",
   "metadata": {},
   "outputs": [],
   "source": [
    "#Creating DataFrame\n",
    "school_spending_df = school_summary_df.copy()\n"
   ]
  },
  {
   "cell_type": "code",
   "execution_count": null,
   "id": "3938da7d",
   "metadata": {},
   "outputs": [],
   "source": [
    "#Creating DataFrame with the bins\n",
    "school_spending_df[\"Spending Ranges (Per Student)\"] = pd.cut(per_capita,spending_bins, labels=labels)\n",
    "school_spending_df"
   ]
  },
  {
   "cell_type": "code",
   "execution_count": null,
   "id": "78a65523",
   "metadata": {},
   "outputs": [],
   "source": [
    "#Calculating math and reading scores and percentages per spending\n",
    "spending_math_scores = school_spending_df.groupby([\"Spending Ranges (Per Student)\"])[\"Average Math Score\"].mean()\n",
    "spending_reading_scores = school_spending_df.groupby([\"Spending Ranges (Per Student)\"])[\"Average Reading Score\"].mean()\n",
    "spending_passing_math = school_spending_df.groupby([\"Spending Ranges (Per Student)\"])[\"% Passing Math\"].mean()\n",
    "spending_passing_reading = school_spending_df.groupby([\"Spending Ranges (Per Student)\"])[\"% Passing Reading\"].mean()\n",
    "overall_passing_spending = school_spending_df.groupby([\"Spending Ranges (Per Student)\"])[\"% Overall Passing\"].mean()"
   ]
  },
  {
   "cell_type": "code",
   "execution_count": null,
   "id": "329f0a84",
   "metadata": {
    "scrolled": true
   },
   "outputs": [],
   "source": [
    "# Assemble into DataFrame\n",
    "spending_summary = pd.DataFrame({\"Average Math Score\":spending_math_scores, \"Average Reading Scores\":spending_reading_scores, \"% Passing Math\": spending_passing_math,\n",
    "                                \"% Passing Reading\":spending_passing_reading, \"% Per Overall\": overall_passing_spending})\n",
    "\n",
    "# Display results\n",
    "spending_summary"
   ]
  },
  {
   "cell_type": "code",
   "execution_count": null,
   "id": "92c29286",
   "metadata": {},
   "outputs": [],
   "source": [
    "# Establish the bins.\n",
    "size_bins = [0, 1000, 2000, 5000]\n",
    "labels = [\"Small (<1000)\", \"Medium (1000-2000)\", \"Large (2000-5000)\"]"
   ]
  },
  {
   "cell_type": "code",
   "execution_count": null,
   "id": "789b45cf",
   "metadata": {},
   "outputs": [],
   "source": [
    "# Categorize the spending based on the bins\n",
    "# Use `pd.cut` on the \"Total Students\" column of the `per_school_summary` DataFrame.\n",
    "\n",
    "school_summary_df[\"School Size\"] = pd.cut(school_summary_df[\"Total Students\"], size_bins, labels=labels)\n",
    "school_summary_df"
   ]
  },
  {
   "cell_type": "code",
   "execution_count": null,
   "id": "250f9275",
   "metadata": {},
   "outputs": [],
   "source": [
    "#Calculating math and reading scores and percentages by size\n",
    "size_math_scores = school_summary_df.groupby([\"School Size\"])[\"Average Math Score\"].mean()\n",
    "size_reading_scores = school_summary_df.groupby([\"School Size\"])[\"Average Reading Score\"].mean()\n",
    "size_passing_math = school_summary_df.groupby([\"School Size\"])[\"% Passing Math\"].mean()\n",
    "size_passing_reading = school_summary_df.groupby([\"School Size\"])[\"% Passing Reading\"].mean()\n",
    "size_overall_passing = school_summary_df.groupby([\"School Size\"])[\"% Overall Passing\"].mean()"
   ]
  },
  {
   "cell_type": "code",
   "execution_count": null,
   "id": "e7a317dc",
   "metadata": {},
   "outputs": [],
   "source": [
    "# Create a DataFrame called `size_summary` that breaks down school performance based on school size (small, medium, or large).\n",
    "# Use the scores above to create a new DataFrame called `size_summary`\n",
    "size_summary = pd.DataFrame({\"Average Math Score\":size_math_scores, \"Average Reading Scores\":size_reading_scores, \"% Passing Math\": size_passing_math,\n",
    "                                \"% Passing Reading\":size_passing_reading, \"% Per Overall\": size_overall_passing})\n",
    "\n",
    "# Display results\n",
    "size_summary"
   ]
  },
  {
   "cell_type": "code",
   "execution_count": null,
   "id": "dbff838c",
   "metadata": {},
   "outputs": [],
   "source": [
    "#Calculating math and reading scores and percentages by type\n",
    "average_math_score_by_type = school_summary_df.groupby([\"School Type\"])[\"Average Math Score\"].mean()\n",
    "average_reading_score_by_type = school_summary_df.groupby([\"School Type\"])[\"Average Reading Score\"].mean()\n",
    "average_percent_passing_math_by_type = school_summary_df.groupby([\"School Type\"])[\"% Passing Math\"].mean()\n",
    "average_percent_passing_reading_by_type = school_summary_df.groupby([\"School Type\"])[\"% Passing Reading\"].mean()\n",
    "average_percent_overall_passing_by_type = school_summary_df.groupby([\"School Type\"])[\"% Overall Passing\"].mean()"
   ]
  },
  {
   "cell_type": "code",
   "execution_count": null,
   "id": "5d76a323",
   "metadata": {},
   "outputs": [],
   "source": [
    "# Assemble the new data by type into a DataFrame called `type_summary`\n",
    "type_summary = pd.DataFrame({\"Average Math Score\":average_math_score_by_type, \"Average Reading Scores\":average_reading_score_by_type, \"% Passing Math\": average_percent_passing_math_by_type,\n",
    "                                \"% Passing Reading\":average_percent_passing_reading_by_type, \"% Per Overall\": average_percent_overall_passing_by_type})\n",
    "\n",
    "\n",
    "# Display results\n",
    "type_summary"
   ]
  },
  {
   "cell_type": "code",
   "execution_count": null,
   "id": "4d8dc2eb",
   "metadata": {},
   "outputs": [],
   "source": []
  }
 ],
 "metadata": {
  "kernelspec": {
   "display_name": "Python 3 (ipykernel)",
   "language": "python",
   "name": "python3"
  },
  "language_info": {
   "codemirror_mode": {
    "name": "ipython",
    "version": 3
   },
   "file_extension": ".py",
   "mimetype": "text/x-python",
   "name": "python",
   "nbconvert_exporter": "python",
   "pygments_lexer": "ipython3",
   "version": "3.10.11"
  }
 },
 "nbformat": 4,
 "nbformat_minor": 5
}
